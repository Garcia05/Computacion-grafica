{
 "cells": [
  {
   "cell_type": "code",
   "execution_count": 26,
   "metadata": {},
   "outputs": [],
   "source": [
    "import math\n",
    "import cmath\n",
    "import cv2\n",
    "import numpy as np\n",
    "from tkinter import Tk\n",
    "from tkinter . filedialog import askopenfilename\n",
    "\n",
    "\n",
    "def exponential (c,b,f):\n",
    "    valor = int(c*((b**f)-1) )\n",
    "    if( valor > 255) :\n",
    "        return 255\n",
    "    if( valor <0) :\n",
    "        return 0\n",
    "    return valor\n",
    "def raiz(c,r,f):\n",
    "    valor = int (c*(f**r))\n",
    "    if( valor > 255) :\n",
    "        return 255\n",
    "    if( valor <0) :\n",
    "        return 0\n",
    "    return valor\n",
    "\n",
    "\n",
    "imgen = cv2.imread('exp_5.jpg')\n",
    "img = cv2.cvtColor ( imgen , cv2.COLOR_BGR2GRAY )\n",
    "\n",
    " # cons = int ( input (\" Ingrese constante de cambio : \"))\n",
    "#cons =10\n",
    "#r=1.01\n",
    "r=1.5\n",
    "cons=0.1\n",
    "cv2.imshow ('Coverted Image', img )\n",
    "cv2.waitKey (0)\n",
    "\n",
    "height , width = img . shape\n",
    "\n",
    "for y in range (0 , width ):\n",
    "    for x in range (0 , height ) :\n",
    "        #img [x , y] = exponential ( cons,r, img[x,y])\n",
    "         img [x , y] = raiz( cons,r ,img[x,y])\n",
    "\n",
    "cv2.imshow ('Coverted Image', img )\n",
    "cv2.waitKey (0)\n",
    "cv2.destroyAllWindows ()"
   ]
  },
  {
   "cell_type": "code",
   "execution_count": null,
   "metadata": {},
   "outputs": [],
   "source": []
  }
 ],
 "metadata": {
  "kernelspec": {
   "display_name": "Python 3",
   "language": "python",
   "name": "python3"
  },
  "language_info": {
   "codemirror_mode": {
    "name": "ipython",
    "version": 3
   },
   "file_extension": ".py",
   "mimetype": "text/x-python",
   "name": "python",
   "nbconvert_exporter": "python",
   "pygments_lexer": "ipython3",
   "version": "3.7.3"
  }
 },
 "nbformat": 4,
 "nbformat_minor": 2
}
