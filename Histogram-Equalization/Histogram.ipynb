{
 "cells": [
  {
   "cell_type": "code",
   "execution_count": 23,
   "metadata": {},
   "outputs": [
    {
     "data": {
      "image/png": "[encoded data removed]",
      "text/plain": [
       "<Figure size 432x288 with 1 Axes>"
      ]
     },
     "metadata": {
      "needs_background": "light"
     },
     "output_type": "display_data"
    }
   ],
   "source": [
    "import cv2\n",
    "import numpy as np\n",
    "from matplotlib import pyplot as plt\n",
    "\n",
    "\n",
    "img= cv2.imread('question_1.png')\n",
    "img = cv2.cvtColor(imgc, cv2.COLOR_BGR2GRAY)\n",
    "def F1(L,n,Pn):\n",
    "    L = L-1\n",
    "    Pr = 0\n",
    "    for i in range(0,n,1):\n",
    "        Pr += Pn[i]\n",
    "    return L*Pr\n",
    "\n",
    "def F2(L,size,pn):\n",
    "    for x in L:\n",
    "        pn.append(x/size)\n",
    "\n",
    "\n",
    "\n",
    "plt.axis(\"on\")\n",
    "L = plt.hist(img.ravel(),256,[0,256])[0]\n",
    "row, col = img.shape\n",
    "img_out= img.copy()\n",
    "size = row * col\n",
    "\n",
    "pn = []\n",
    "F2(L,size,pn)\n",
    "S_n = []\n",
    "for i in range (1,len(L)+1):\n",
    "\tS_n.append(int(F1(len(L),i,pn)))\n",
    "\n",
    "for y in range(0,col):\n",
    "\tfor x in range(0,row):\n",
    "\t\timg_out[x,y] = S_n[img[x,y]]\n",
    "plt.hist(img.ravel(),256,[0,256])\n",
    "plt.show()\n",
    "cv2.imshow('Coverted Image',img_out)\n",
    "cv2.waitKey(0)\n",
    "cv2.destroyAllWindows()\n",
    "\n"
   ]
  },
  {
   "cell_type": "code",
   "execution_count": 4,
   "metadata": {},
   "outputs": [
    {
     "data": {
      "image/png": "[encoded data removed]",
      "text/plain": [
       "<Figure size 432x288 with 1 Axes>"
      ]
     },
     "metadata": {
      "needs_background": "light"
     },
     "output_type": "display_data"
    },
    {
     "name": "stdout",
     "output_type": "stream",
     "text": [
      "9680\n"
     ]
    },
    {
     "data": {
      "image/png": "[encoded data removed]",
      "text/plain": [
       "<Figure size 432x288 with 1 Axes>"
      ]
     },
     "metadata": {
      "needs_background": "light"
     },
     "output_type": "display_data"
    }
   ],
   "source": [
    "import cv2\n",
    "import numpy as np\n",
    "from matplotlib import pyplot as plt\n",
    "\n",
    "def sn(L,n,Pn):\n",
    "\tL = L-1\n",
    "\tPr = 0\n",
    "\tfor i in range(0,n,1):\n",
    "\t\tPr += Pn[i]\n",
    "\treturn L*Pr\n",
    "\n",
    "def Pn(L,size,pn):\n",
    "\tfor x in L:\n",
    "\t        pn.append(x/size)\n",
    "\n",
    "imgc= cv2.imread('hist10_1.jpg')\n",
    "img = cv2.cvtColor(imgc, cv2.COLOR_BGR2GRAY)\n",
    "\n",
    "\n",
    "crop_img = img[280:280+110,172:172+88]\n",
    "\n",
    "cv2.imshow('Coverted Image',crop_img)\n",
    "cv2.waitKey(0)\n",
    "plt.axis(\"on\")\n",
    "\n",
    "L = plt.hist(crop_img.ravel(),256,[0,256])[0]\n",
    "#print(L,\"  \",len(L))\n",
    "plt.show()\n",
    "\n",
    "height, width = crop_img.shape\n",
    "size = height * width\n",
    "\n",
    "height, width = img.shape\n",
    "print(size)\n",
    "\n",
    "pn = []\n",
    "Pn(L,size,pn)\n",
    "S_n = []\n",
    "\n",
    "for i in range (1,len(L)+1):\n",
    "\tS_n.append(int(sn(len(L),i,pn)))\n",
    "\n",
    "#print(\"size: \",S_n)\n",
    "for y in range(0,width):\n",
    "\tfor x in range(0,height):\n",
    "\t\timg[x,y] = S_n[img[x,y]]\n",
    "plt.hist(img.ravel(),256,[0,256])[0]\n",
    "plt.show()\n",
    "cv2.imshow('Cted Image',img)\n",
    "cv2.waitKey(0)\n",
    "cv2.destroyAllWindows()\n"
   ]
  },
  {
   "cell_type": "code",
   "execution_count": 26,
   "metadata": {},
   "outputs": [
    {
     "data": {
      "text/plain": [
       "True"
      ]
     },
     "execution_count": 26,
     "metadata": {},
     "output_type": "execute_result"
    }
   ],
   "source": [
    " \n",
    "import cv2\n",
    "import numpy as np\n",
    "import matplotlib as plt\n",
    "\n",
    "img = cv2.imread(\"question_1.png\")\n",
    "\n",
    "#########  write your code here ##################\n",
    "img = cv2.cvtColor(imgc, cv2.COLOR_BGR2GRAY)\n",
    "row, col = img.shape\n",
    "img_out= img.copy()\n",
    "def F1(L,n,Pn):\n",
    "    L = L-1\n",
    "    Pr = 0\n",
    "    for i in range(0,n,1):\n",
    "        Pr += Pn[i]\n",
    "    return L*Pr\n",
    "\n",
    "def F2(L,size,pn):\n",
    "    for x in L:\n",
    "        pn.append(x/size)\n",
    "\n",
    "\n",
    "\n",
    "size = row * col\n",
    "\n",
    "pn = []\n",
    "F2(L,size,pn)\n",
    "S_n = []\n",
    "for i in range (1,len(L)+1):\n",
    "\tS_n.append(int(F1(len(L),i,pn)))\n",
    "\n",
    "for y in range(0,col):\n",
    "\tfor x in range(0,row):\n",
    "\t\timg_out[x,y] = S_n[img[x,y]]\n",
    "\n",
    "######## the result have to be set in img_out ####\n",
    "######## not modify from here ####################\n",
    "\n",
    "cv2.imwrite(\"question_1_sol.png\", img_out)"
   ]
  },
  {
   "cell_type": "code",
   "execution_count": null,
   "metadata": {},
   "outputs": [],
   "source": []
  }
 ],
 "metadata": {
  "kernelspec": {
   "display_name": "Python 3",
   "language": "python",
   "name": "python3"
  },
  "language_info": {
   "codemirror_mode": {
    "name": "ipython",
    "version": 3
   },
   "file_extension": ".py",
   "mimetype": "text/x-python",
   "name": "python",
   "nbconvert_exporter": "python",
   "pygments_lexer": "ipython3",
   "version": "3.7.3"
  }
 },
 "nbformat": 4,
 "nbformat_minor": 2
}
