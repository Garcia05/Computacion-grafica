{
 "cells": [
  {
   "cell_type": "code",
   "execution_count": 5,
   "metadata": {},
   "outputs": [
    {
     "name": "stdout",
     "output_type": "stream",
     "text": [
      "510 384\n"
     ]
    },
    {
     "data": {
      "text/plain": [
       "True"
      ]
     },
     "execution_count": 5,
     "metadata": {},
     "output_type": "execute_result"
    }
   ],
   "source": [
    "import cv2\n",
    "import random\n",
    "import numpy as np\n",
    "import math\n",
    "from matplotlib import pyplot as plt\n",
    "\n",
    "def umbral(imagen,x,y,w):\n",
    "    r=int((w-1)/2)\n",
    "    x = x-r\n",
    "    y = y-r\n",
    "    newx = 0\n",
    "    newy = 0\n",
    "    promR = 0\n",
    "    promG = 0\n",
    "    promB = 0\n",
    "    divi = 0\n",
    "    for i in range(w):\n",
    "        for j in range(w):\n",
    "            newx=x+i\n",
    "            newy=y+j\n",
    "            if newx>=0 and newy>=0 and newx<len(imagen) and newy<len(imagen[0]):\n",
    "                promR=promR+imagen.item(newx,newy,0)\n",
    "                promG=promG+imagen.item(newx,newy,1)\n",
    "                promB=promB+imagen.item(newx,newy,2)\n",
    "                divi=divi+1\n",
    "    promR=(promR/divi)\n",
    "    promG=(promG/divi)\n",
    "    promB=(promB/divi)\n",
    "    return promR,promG,promB\n",
    "\n",
    "\n",
    "img=cv2.imread('sub_1.jpg')\n",
    "img2=cv2.imread('sub_1.jpg')\n",
    "a1=max(len(img),len(img2))\n",
    "b1=max(len(img[0]),len(img2[0]))\n",
    "img=cv2.resize(img,(b1,a1))\n",
    "img2=cv2.resize(img2,(b1,a1))\n",
    "print(a1,b1)\n",
    "c=2\n",
    "w_s=11\n",
    "\n",
    "for i in range(a1):\n",
    "    for j in range(b1):\n",
    "        r,g,b = umbral(img,i,j,w_s)\n",
    "        if r-c>img.item(i,j,0):\n",
    "            img2.itemset((i,j,0),0)\n",
    "            img2.itemset((i,j,1),0)\n",
    "            img2.itemset((i,j,2),0)\n",
    "        else:\n",
    "            img2.itemset((i,j,0),255)\n",
    "            img2.itemset((i,j,1),255)\n",
    "            img2.itemset((i,j,2),255)\n",
    "        \n",
    "#cv2.imshow('resp',img2)\n",
    "cv2.imwrite('subss.jpg',img2)"
   ]
  },
  {
   "cell_type": "code",
   "execution_count": 10,
   "metadata": {},
   "outputs": [
    {
     "data": {
      "image/png": "[encoded data removed]",
      "text/plain": [
       "<Figure size 432x288 with 4 Axes>"
      ]
     },
     "metadata": {
      "needs_background": "light"
     },
     "output_type": "display_data"
    }
   ],
   "source": [
    "import cv2\n",
    "import numpy as np \n",
    "from matplotlib import pyplot as plt\n",
    "\n",
    "filename = \"15.0.jpg\"\n",
    "\n",
    "def mean(i,j,row,col,rang):\n",
    "\tlin = rang\n",
    "\tarriba =  i-lin\n",
    "\tabajo =   i+lin\n",
    "\tisq =\tj-lin\n",
    "\tder = \tj+lin\n",
    "\tif arriba < 0:\n",
    "\t\tarriba = 0\n",
    "\tif abajo > row:\n",
    "\t\tabajo = row-1\n",
    "\tif isq < 0:\n",
    "\t\tisq = 0\n",
    "\tif der > col:\n",
    "\t\tder = col-1\n",
    "\ttotal = 4*lin*lin\n",
    "\tsubimg = tmp[arriba:abajo,isq:der]\n",
    "\t#print(subimg)\n",
    "\t#print(total)\n",
    "\tsuma = np.sum(subimg)\n",
    "\treturn suma/total\n",
    "\n",
    "def adap_th(img,row,col,constante,rango):\n",
    "\tfor i in range (row):\n",
    "\t    for j in range(cols):\n",
    "\t    \tvalue = mean(i,j,row,cols,rango)\n",
    "\t    \tvalue = value - constante\n",
    "\t    \tif img[i,j]>value:\n",
    "\t    \t\timg[i,j]= 255\n",
    "\t    \telse:\n",
    "\t    \t\timg[i,j]= 0\n",
    "\n",
    "\n",
    "img = cv2.imread(filename)\n",
    "img1 = cv2.cvtColor(img,cv2.COLOR_BGR2GRAY)\n",
    "tmp = img1.copy()\n",
    "img2 = img1.copy()\n",
    "img3= img1.copy()\n",
    "img4= img1.copy()\n",
    "row,cols = img1.shape\n",
    "\n",
    "adap_th(img1,row,cols,3,3)\n",
    "adap_th(img2,row,cols,10,10)\n",
    "adap_th(img3,row,cols,20,10)\n",
    "adap_th(img4,row,cols,30,10)\n",
    "\n",
    "\n",
    "f, axarr = plt.subplots(2,2)\n",
    "axarr[0,0].imshow(cv2.cvtColor(img1, cv2.COLOR_GRAY2RGB))\n",
    "axarr[0,0].set_title(\"Th C=5, rango 10\")\n",
    "axarr[0,1].imshow(cv2.cvtColor(img2, cv2.COLOR_GRAY2RGB))\n",
    "axarr[0,1].set_title(\"Th C=10, rango 10\")\n",
    "axarr[1,0].imshow(cv2.cvtColor(img3, cv2.COLOR_GRAY2RGB))\n",
    "axarr[1,0].set_title(\"Th C=20, rango 10\")\n",
    "axarr[1,1].imshow(cv2.cvtColor(img4, cv2.COLOR_GRAY2RGB))\n",
    "axarr[1,1].set_title(\"Th C=30, rango 10\")\n",
    "cv2.imwrite(\"ss.jpg\",img1)\n",
    "plt.show()"
   ]
  },
  {
   "cell_type": "code",
   "execution_count": 10,
   "metadata": {},
   "outputs": [
    {
     "data": {
      "text/plain": [
       "True"
      ]
     },
     "execution_count": 10,
     "metadata": {},
     "output_type": "execute_result"
    }
   ],
   "source": [
    "# THRESHOLDING DEL PROFE\n",
    "\n",
    "import cv2\n",
    "import numpy as np \n",
    "from matplotlib import pyplot as plt\n",
    "\n",
    "\n",
    "def threshold_A( img):\n",
    "\twindow = 11\n",
    "\tC = 2\n",
    "\trow,col = img.shape[:2]\n",
    "\timg_out = img.copy()\n",
    "\tfor i in range(1,row):\n",
    "\t\tfor j in range(1,col):\n",
    "\t\t\ty0 = i - int(window/2)\n",
    "\t\t\ty1 = i + int(window/2)+1\n",
    "\t\t\tx0 = j - int(window/2)\n",
    "\t\t\tx1 = j + int(window/2)+1\n",
    "\n",
    "\t\t\tif(y0 < 0):\n",
    "\t\t\t\ty0 = 0\n",
    "\t\t\tif(y1 > row):\n",
    "\t\t\t\ty1 = row\n",
    "\t\t\tif(x0 < 0):\n",
    "\t\t\t\tx0 = 0\n",
    "\t\t\tif(x1 > col):\n",
    "\t\t\t\tx1 = col\n",
    "\t\t\tblock = img[y0:y1,x0:x1]\n",
    "\n",
    "\t\t\tthresh = np.mean(block) - C\n",
    "\t\t\tif(img[i,j] < thresh):\n",
    "\t\t\t\timg_out[i,j] = 0\n",
    "\t\t\telse:\n",
    "\t\t\t\timg_out[i,j] = 255\n",
    "\treturn img_out\n",
    "img=cv2.imread('imagen_Gris.jpg') \n",
    "img = cv2.cvtColor(img, cv2.COLOR_BGR2GRAY)\n",
    "img_out = threshold_A(img)\n",
    "kernel = np.ones((5,5), np.uint8) \n",
    "\n",
    "cv2.imwrite(\"ssol11.jpg\",img_out)"
   ]
  },
  {
   "cell_type": "code",
   "execution_count": null,
   "metadata": {},
   "outputs": [],
   "source": [
    "# THRESHOLDING DEL PROFE\n",
    "\n",
    "import cv2\n",
    "import numpy as np \n",
    "from matplotlib import pyplot as plt\n",
    "\n",
    "\n",
    "def threshold_A( img):\n",
    "\twindow = 11\n",
    "\tC = 2\n",
    "\trow,col = img.shape[:2]\n",
    "\timg_out = img.copy()\n",
    "\tfor i in range(1,row):\n",
    "\t\tfor j in range(1,col):\n",
    "\t\t\ty0 = i - int(window/2)\n",
    "\t\t\ty1 = i + int(window/2)+1\n",
    "\t\t\tx0 = j - int(window/2)\n",
    "\t\t\tx1 = j + int(window/2)+1\n",
    "\n",
    "\t\t\tif(y0 < 0):\n",
    "\t\t\t\ty0 = 0\n",
    "\t\t\tif(y1 > row):\n",
    "\t\t\t\ty1 = row\n",
    "\t\t\tif(x0 < 0):\n",
    "\t\t\t\tx0 = 0\n",
    "\t\t\tif(x1 > col):\n",
    "\t\t\t\tx1 = col\n",
    "\t\t\tblock = img[y0:y1,x0:x1]\n",
    "\t\t\tthresh = np.mean(block) - C\n",
    "\t\t\tif(img[i,j] < thresh):\n",
    "\t\t\t\timg_out[i,j] = 0\n",
    "\t\t\telse:\n",
    "\t\t\t\timg_out[i,j] = 255\n",
    "\treturn img_out\n",
    "\n",
    "img=cv2.imread('imagen_Gris.jpg') \n",
    "img = cv2.cvtColor(img, cv2.COLOR_BGR2GRAY)\n",
    "img_out = threshold_A(img)\n",
    "kernel = np.ones((5,5), np.uint8) \n",
    "\n",
    "cv2.imwrite(\"ssol11.jpg\",img_out)"
   ]
  }
 ],
 "metadata": {
  "kernelspec": {
   "display_name": "Python 3",
   "language": "python",
   "name": "python3"
  },
  "language_info": {
   "codemirror_mode": {
    "name": "ipython",
    "version": 3
   },
   "file_extension": ".py",
   "mimetype": "text/x-python",
   "name": "python",
   "nbconvert_exporter": "python",
   "pygments_lexer": "ipython3",
   "version": "3.7.3"
  }
 },
 "nbformat": 4,
 "nbformat_minor": 2
}
