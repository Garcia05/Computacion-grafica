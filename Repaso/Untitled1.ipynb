{
 "cells": [
  {
   "cell_type": "code",
   "execution_count": 42,
   "metadata": {},
   "outputs": [
    {
     "data": {
      "image/png": "[encoded data removed]",
      "text/plain": [
       "<Figure size 432x288 with 1 Axes>"
      ]
     },
     "metadata": {
      "needs_background": "light"
     },
     "output_type": "display_data"
    },
    {
     "name": "stdout",
     "output_type": "stream",
     "text": [
      "sdasdad\n"
     ]
    }
   ],
   "source": [
    "import cv2\n",
    "import numpy as np\n",
    "from matplotlib import pyplot as plt\n",
    "\n",
    "\n",
    "img= cv2.imread('paper6.jpg')\n",
    "img_out = cv2.cvtColor(img, cv2.COLOR_BGR2GRAY)\n",
    "img = cv2.cvtColor(img, cv2.COLOR_BGR2GRAY)\n",
    "\n",
    "\n",
    "\n",
    "plt.axis(\"on\")\n",
    "plt.hist(img.ravel(),256,[0,256])\n",
    "plt.show()\n",
    "\n",
    "\n",
    "row, col = img.shape\n",
    "#th = 11\n",
    "c = 2\n",
    "F = 1\n",
    "for x in range(row):\n",
    "    for y in range(col):\n",
    "        test = []\n",
    "        if( x-F >=0 and y-F >= 0 and y-F < col and x-F <row):\n",
    "            test.append(img[x-F,y-F])\n",
    "        if( x-F >=0 and y>= 0 and y< col and x-F <row):\n",
    "            test.append(img[x-F,y])\n",
    "        if( x-F >=0 and y+F >= 0 and y+F < col and x-F <row) :\n",
    "            test.append(img[x-F,y+F])\n",
    "            \n",
    "        if( x >=0 and y-F >= 0 and y-F < col and x <row):\n",
    "            test.append(img[x,y-F])\n",
    "        if( x >=0 and y >= 0 and y < col and x <row):\n",
    "            test.append(img[x,y] )\n",
    "        if( x >=0 and y+F >= 0 and y+F < col and x <row):\n",
    "            test.append(img[x,y+F])\n",
    "            \n",
    "        if( x+F >=0 and y-F >= 0 and y-F < col and x+F <row):\n",
    "            test.append(img[x+F,y-F])\n",
    "        if( x+F >=0 and y >= 0 and y < col and x+F <row):\n",
    "            test.append(img[x+F,y])\n",
    "        if( x+F >=0 and y+F >= 0 and y+F < col and x+F <row):\n",
    "            test.append(img[x+F,y+F])\n",
    "\n",
    "        th = int(np.mean(test))    \n",
    "        if (img[x,y] < th - c):\n",
    "            img_out[x,y] = 0\n",
    "\n",
    "        else:\n",
    "            img_out[x,y] = 255\n",
    "\n",
    "print('sdasdad')\n",
    "#cv2.imshow('Coverted Image',img_out)\n",
    "cv2.imwrite('paper8.jpg',img_out)\n",
    "cv2.waitKey(0)\n",
    "cv2.destroyAllWindows()"
   ]
  },
  {
   "cell_type": "code",
   "execution_count": null,
   "metadata": {},
   "outputs": [],
   "source": []
  }
 ],
 "metadata": {
  "kernelspec": {
   "display_name": "Python 3",
   "language": "python",
   "name": "python3"
  },
  "language_info": {
   "codemirror_mode": {
    "name": "ipython",
    "version": 3
   },
   "file_extension": ".py",
   "mimetype": "text/x-python",
   "name": "python",
   "nbconvert_exporter": "python",
   "pygments_lexer": "ipython3",
   "version": "3.7.3"
  }
 },
 "nbformat": 4,
 "nbformat_minor": 2
}
