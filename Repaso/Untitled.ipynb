{
 "cells": [
  {
   "cell_type": "code",
   "execution_count": 5,
   "metadata": {},
   "outputs": [
    {
     "name": "stdout",
     "output_type": "stream",
     "text": [
      "829 1483\n"
     ]
    },
    {
     "data": {
      "text/plain": [
       "True"
      ]
     },
     "execution_count": 5,
     "metadata": {},
     "output_type": "execute_result"
    }
   ],
   "source": [
    "import cv2\n",
    "import random\n",
    "import numpy as np\n",
    "import math\n",
    "from matplotlib import pyplot as plt\n",
    "\n",
    "def umbral(imagen,x,y,w):\n",
    "    r=int((w-1)/2)\n",
    "    x = x-r\n",
    "    y = y-r\n",
    "    newx = 0\n",
    "    newy = 0\n",
    "    promR = 0\n",
    "    promG = 0\n",
    "    promB = 0\n",
    "    divi = 0\n",
    "    for i in range(w):\n",
    "        for j in range(w):\n",
    "            newx=x+i\n",
    "            newy=y+j\n",
    "            if newx>=0 and newy>=0 and newx<len(imagen) and newy<len(imagen[0]):\n",
    "                promR=promR+imagen.item(newx,newy,0)\n",
    "                promG=promG+imagen.item(newx,newy,1)\n",
    "                promB=promB+imagen.item(newx,newy,2)\n",
    "                divi=divi+1\n",
    "    promR=(promR/divi)\n",
    "    promG=(promG/divi)\n",
    "    promB=(promB/divi)\n",
    "    return promR,promG,promB\n",
    "\n",
    "\n",
    "img=cv2.imread('paper6.jpg')\n",
    "img2=cv2.imread('paper6.jpg')\n",
    "a1=max(len(img),len(img2))\n",
    "b1=max(len(img[0]),len(img2[0]))\n",
    "img=cv2.resize(img,(b1,a1))\n",
    "img2=cv2.resize(img2,(b1,a1))\n",
    "print(a1,b1)\n",
    "c=2\n",
    "w_s=11\n",
    "\n",
    "for i in range(a1):\n",
    "    for j in range(b1):\n",
    "        r,g,b = umbral(img,i,j,w_s)\n",
    "        if r-c>img.item(i,j,0):\n",
    "            img2.itemset((i,j,0),0)\n",
    "            img2.itemset((i,j,1),0)\n",
    "            img2.itemset((i,j,2),0)\n",
    "        else:\n",
    "            img2.itemset((i,j,0),255)\n",
    "            img2.itemset((i,j,1),255)\n",
    "            img2.itemset((i,j,2),255)\n",
    "        \n",
    "#cv2.imshow('resp',img2)\n",
    "cv2.imwrite('paper5.jpg',img2)"
   ]
  },
  {
   "cell_type": "code",
   "execution_count": null,
   "metadata": {},
   "outputs": [],
   "source": []
  }
 ],
 "metadata": {
  "kernelspec": {
   "display_name": "Python 3",
   "language": "python",
   "name": "python3"
  },
  "language_info": {
   "codemirror_mode": {
    "name": "ipython",
    "version": 3
   },
   "file_extension": ".py",
   "mimetype": "text/x-python",
   "name": "python",
   "nbconvert_exporter": "python",
   "pygments_lexer": "ipython3",
   "version": "3.7.3"
  }
 },
 "nbformat": 4,
 "nbformat_minor": 2
}
