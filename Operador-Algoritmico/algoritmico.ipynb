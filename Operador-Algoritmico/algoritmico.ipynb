{
 "cells": [
  {
   "cell_type": "code",
   "execution_count": 2,
   "metadata": {},
   "outputs": [],
   "source": [
    "import cv2\n",
    "import math\n",
    "import cmath\n",
    "from tkinter import Tk\n",
    "from tkinter.filedialog import askopenfilename\n",
    "\n",
    "\n",
    "def exponential(c,f):\n",
    "\treturn int(c*math.log(1+f,10))\n",
    "\n",
    "imgen = cv2.imread('log_6.jpg')\n",
    "img = cv2.cvtColor(imgen, cv2.COLOR_BGR2GRAY)\n",
    "\n",
    "#cons = int(input(\"Ingrese constante de cambio: \"))\n",
    "cons=70\n",
    "cv2.imshow('Coverted Image',img)\n",
    "cv2.waitKey(0)\n",
    "\n",
    "height, width = img.shape\n",
    "\n",
    "for y in range(0,width):\n",
    "\tfor x in range(0,height):\n",
    "\t\timg[x,y] = exponential(cons,img[x,y])\n",
    "\n",
    "cv2.imshow('Coverted Image',img)\n",
    "cv2.waitKey(0)\n",
    "cv2.destroyAllWindows()"
   ]
  },
  {
   "cell_type": "code",
   "execution_count": 3,
   "metadata": {},
   "outputs": [
    {
     "name": "stdout",
     "output_type": "stream",
     "text": [
      "103861\n"
     ]
    }
   ],
   "source": [
    "import cv2\n",
    "import math\n",
    "import cmath\n",
    "import numpy as np\n",
    "from matplotlib import pyplot as plt\n",
    "\n",
    "def exponential(c,f):\n",
    "    valor= int(c*math.log(1+f,10))\n",
    "    if(valor > 255):\n",
    "        return 255\n",
    "    if(valor<0):\n",
    "        return 0\n",
    "    return valor\n",
    "def raiz(c,f):\n",
    "    valor= int(c*math.sqrt(f))\n",
    "    if(valor > 255):\n",
    "        return 255\n",
    "    if(valor<0):\n",
    "        return 0\n",
    "    return valor\n",
    "def exponential2(c,b,f):\n",
    "    valor = c*( pow(b,f)-1)\n",
    "    if(valor > 255):\n",
    "        return 255\n",
    "    if(valor<0):\n",
    "        return 0\n",
    "    return valor\n",
    "def exponential3(c,b,f):\n",
    "    valor = c*( pow(f,b))\n",
    "    if(valor > 255):\n",
    "        return 255\n",
    "    if(valor<0):\n",
    "        return 0\n",
    "    return valor\n",
    "imgc= cv2.imread('exp_5.jpg')\n",
    "img = cv2.cvtColor(imgc, cv2.COLOR_BGR2GRAY)\n",
    "\n",
    "cv2.imshow('Coverted Image',img)\n",
    "cv2.waitKey(0)\n",
    "cv2.destroyAllWindows()\n",
    "\n",
    "\n",
    "height, width = img.shape\n",
    "size = height * width\n",
    "\n",
    "\n",
    "print(size)\n",
    "cons=0.1\n",
    "r = 1.5\n",
    "for i in range(0,width):\n",
    "    for j in range(0,height):\n",
    "        img[j,i]=exponential3(cons,r,img[j,i])\n",
    "\n",
    "\n",
    "\n",
    "cv2.imshow('Coverted Image',img)\n",
    "cv2.waitKey(0)\n",
    "cv2.destroyAllWindows()\n",
    "\n"
   ]
  },
  {
   "cell_type": "code",
   "execution_count": null,
   "metadata": {},
   "outputs": [],
   "source": []
  }
 ],
 "metadata": {
  "kernelspec": {
   "display_name": "Python 3",
   "language": "python",
   "name": "python3"
  },
  "language_info": {
   "codemirror_mode": {
    "name": "ipython",
    "version": 3
   },
   "file_extension": ".py",
   "mimetype": "text/x-python",
   "name": "python",
   "nbconvert_exporter": "python",
   "pygments_lexer": "ipython3",
   "version": "3.7.3"
  }
 },
 "nbformat": 4,
 "nbformat_minor": 2
}
