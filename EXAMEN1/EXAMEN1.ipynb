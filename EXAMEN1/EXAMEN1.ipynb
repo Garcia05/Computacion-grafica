{
 "cells": [
  {
   "cell_type": "code",
   "execution_count": 1,
   "metadata": {},
   "outputs": [],
   "source": [
    "import cv2\n",
    "import numpy as np\n",
    "from matplotlib import pyplot as plt\n",
    "\n",
    "def threshold(filename,x1,x2):\n",
    "\n",
    "    img = cv2.imread(filename)\n",
    "    row,cols,channels = img.shape\n",
    "    img2= img.copy()\n",
    "    for i in range (row):\n",
    "        for j in range (cols):        \n",
    "            if  133 < img2[i][j][0] and img2[i][j][0] < 186 and 158 < img2[i][j][1] and img2[i][j][1] < 201 and 211 < img2[i][j][2] and img2[i][j][2] < 238 or (img2[i][j][0] == [199 ,203, 233]).all():\n",
    "                img2[i][j] = 255\n",
    "            else:\n",
    "                img2[i,j] = 0\n",
    "    salida = \"salida\" + filename\n",
    "    cv2.imwrite(salida,img2)\n",
    "    return  salida\n",
    "output= threshold('thresh3.png',195,210)"
   ]
  },
  {
   "cell_type": "code",
   "execution_count": 25,
   "metadata": {},
   "outputs": [
    {
     "data": {
      "text/plain": [
       "True"
      ]
     },
     "execution_count": 25,
     "metadata": {},
     "output_type": "execute_result"
    }
   ],
   "source": [
    "import cv2\n",
    "import numpy as np\n",
    "import matplotlib as plt\n",
    "\n",
    "img = cv2.imread(\"question_2.png\")\n",
    "img = cv2.cvtColor(img, cv2.COLOR_BGR2GRAY)\n",
    "#########  write your code here ##################\n",
    "\n",
    "img_out = img.copy()\n",
    "row,col = img.shape\n",
    "f1=60\n",
    "f2=250\n",
    "for y in range(0,col):\n",
    "    for x in range(0,row):\n",
    "        if (f1 <= img[x,y] and img[x,y] <= f2):\n",
    "            img_out[x,y] = 0\n",
    "\n",
    "        else:\n",
    "            img_out[x,y] = 255\n",
    "\n",
    "\n",
    "\n",
    "######## the result have to be set in img_out ####\n",
    "######## not modify from here ####################\n",
    "\n",
    "cv2.imwrite(\"question_2_sol.png\", img_out)"
   ]
  },
  {
   "cell_type": "code",
   "execution_count": 32,
   "metadata": {},
   "outputs": [
    {
     "ename": "AttributeError",
     "evalue": "module 'matplotlib' has no attribute 'hist'",
     "output_type": "error",
     "traceback": [
      "\u001b[1;31m---------------------------------------------------------------------------\u001b[0m",
      "\u001b[1;31mAttributeError\u001b[0m                            Traceback (most recent call last)",
      "\u001b[1;32m<ipython-input-32-c8544b9f28f6>\u001b[0m in \u001b[0;36m<module>\u001b[1;34m\u001b[0m\n\u001b[0;32m     19\u001b[0m \u001b[1;33m\u001b[0m\u001b[0m\n\u001b[0;32m     20\u001b[0m \u001b[1;33m\u001b[0m\u001b[0m\n\u001b[1;32m---> 21\u001b[1;33m \u001b[0mL\u001b[0m \u001b[1;33m=\u001b[0m \u001b[0mplt\u001b[0m\u001b[1;33m.\u001b[0m\u001b[0mhist\u001b[0m\u001b[1;33m(\u001b[0m\u001b[0mimg\u001b[0m\u001b[1;33m.\u001b[0m\u001b[0mravel\u001b[0m\u001b[1;33m(\u001b[0m\u001b[1;33m)\u001b[0m\u001b[1;33m,\u001b[0m\u001b[1;36m256\u001b[0m\u001b[1;33m,\u001b[0m\u001b[1;33m[\u001b[0m\u001b[1;36m0\u001b[0m\u001b[1;33m,\u001b[0m\u001b[1;36m256\u001b[0m\u001b[1;33m]\u001b[0m\u001b[1;33m)\u001b[0m\u001b[1;33m[\u001b[0m\u001b[1;36m0\u001b[0m\u001b[1;33m]\u001b[0m\u001b[1;33m\u001b[0m\u001b[1;33m\u001b[0m\u001b[0m\n\u001b[0m\u001b[0;32m     22\u001b[0m \u001b[0mrow\u001b[0m\u001b[1;33m,\u001b[0m \u001b[0mcol\u001b[0m \u001b[1;33m=\u001b[0m \u001b[0mimg\u001b[0m\u001b[1;33m.\u001b[0m\u001b[0mshape\u001b[0m\u001b[1;33m\u001b[0m\u001b[1;33m\u001b[0m\u001b[0m\n\u001b[0;32m     23\u001b[0m \u001b[0mimg_out\u001b[0m\u001b[1;33m=\u001b[0m \u001b[0mimg\u001b[0m\u001b[1;33m.\u001b[0m\u001b[0mcopy\u001b[0m\u001b[1;33m(\u001b[0m\u001b[1;33m)\u001b[0m\u001b[1;33m\u001b[0m\u001b[1;33m\u001b[0m\u001b[0m\n",
      "\u001b[1;31mAttributeError\u001b[0m: module 'matplotlib' has no attribute 'hist'"
     ]
    }
   ],
   "source": [
    "import cv2\n",
    "import numpy as np\n",
    "import matplotlib as plt\n",
    "\n",
    "img= cv2.imread('question_1.png')\n",
    "img = cv2.cvtColor(img, cv2.COLOR_BGR2GRAY)\n",
    "def F1(L,n,Pn):\n",
    "    L = L-1\n",
    "    Pr = 0\n",
    "    for i in range(0,n,1):\n",
    "        Pr += Pn[i]\n",
    "    return L*Pr\n",
    "\n",
    "def F2(L,size,pn):\n",
    "    for x in L:\n",
    "        pn.append(x/size)\n",
    "\n",
    "\n",
    "\n",
    "\n",
    "L = plt.hist(img.ravel(),256,[0,256])[0]\n",
    "row, col = img.shape\n",
    "img_out= img.copy()\n",
    "size = row * col\n",
    "\n",
    "pn = []\n",
    "F2(L,size,pn)\n",
    "S_n = []\n",
    "for i in range (1,len(L)+1):\n",
    "\tS_n.append(int(F1(len(L),i,pn)))\n",
    "\n",
    "for y in range(0,col):\n",
    "\tfor x in range(0,row):\n",
    "\t\timg_out[x,y] = S_n[img[x,y]]\n",
    "\n",
    "######## the result have to be set in img_out ####\n",
    "######## not modify from here ####################\n",
    "\n",
    "cv2.imwrite(\"question_1_sol.png\", img_out)"
   ]
  },
  {
   "cell_type": "code",
   "execution_count": 39,
   "metadata": {},
   "outputs": [
    {
     "data": {
      "image/png": "[encoded data removed]",
      "text/plain": [
       "<Figure size 432x288 with 1 Axes>"
      ]
     },
     "metadata": {
      "needs_background": "light"
     },
     "output_type": "display_data"
    }
   ],
   "source": [
    "import cv2\n",
    "import numpy as np\n",
    "from matplotlib import pyplot as plt\n",
    "\n",
    "\n",
    "img= cv2.imread('question_1.png')\n",
    "img = cv2.cvtColor(img, cv2.COLOR_BGR2GRAY)\n",
    "def F1(L,n,Pn):\n",
    "    L = L-1\n",
    "    Pr = 0\n",
    "    for i in range(0,n,1):\n",
    "        Pr += Pn[i]\n",
    "    return L*Pr\n",
    "\n",
    "def F2(L,size,pn):\n",
    "    for x in L:\n",
    "        pn.append(x/size)\n",
    "\n",
    "\n",
    "\n",
    "plt.axis(\"on\")\n",
    "L = plt.hist(img.ravel(),256,[0,256])[0]\n",
    "row, col = img.shape\n",
    "img_out= img.copy()\n",
    "size = row * col\n",
    "\n",
    "pn = []\n",
    "F2(L,size,pn)\n",
    "S_n = []\n",
    "for i in range (1,len(L)+1):\n",
    "\tS_n.append(int(F1(len(L),i,pn)))\n",
    "\n",
    "for y in range(0,col):\n",
    "\tfor x in range(0,row):\n",
    "\t\timg_out[x,y] = S_n[img[x,y]]\n",
    "plt.hist(img.ravel(),256,[0,256])\n",
    "plt.show()\n",
    "cv2.imshow('Coverted Image',img_out)\n",
    "cv2.waitKey(0)\n",
    "cv2.destroyAllWindows()"
   ]
  },
  {
   "cell_type": "code",
   "execution_count": 38,
   "metadata": {},
   "outputs": [
    {
     "data": {
      "image/png": "[encoded data removed]",
      "text/plain": [
       "<Figure size 432x288 with 1 Axes>"
      ]
     },
     "metadata": {
      "needs_background": "light"
     },
     "output_type": "display_data"
    }
   ],
   "source": [
    "import cv2\n",
    "import numpy as np\n",
    "from matplotlib import pyplot as plt\n",
    "\n",
    "\n",
    "img= cv2.imread('question_2.png')\n",
    "img = cv2.cvtColor(img, cv2.COLOR_BGR2GRAY)\n",
    "img_out= img.copy()\n",
    "\n",
    "\n",
    "plt.axis(\"on\")\n",
    "plt.hist(img.ravel(),256,[0,256])\n",
    "plt.show()\n",
    "\n",
    "\n",
    "row, col = img.shape\n",
    "\n",
    "f1 = 60#50\n",
    "f2 = 250#100\n",
    "\n",
    "for y in range(0,col):\n",
    "    for x in range(0,row):\n",
    "        if (f1 <= img[x,y] and img[x,y] <= f2):\n",
    "            img_out[x,y] = 255\n",
    "\n",
    "        else:\n",
    "            img_out[x,y] = 0\n",
    "\n",
    "cv2.imshow('Coverted Image',img_out)\n",
    "cv2.waitKey(0)\n",
    "cv2.destroyAllWindows()"
   ]
  },
  {
   "cell_type": "code",
   "execution_count": null,
   "metadata": {},
   "outputs": [],
   "source": []
  }
 ],
 "metadata": {
  "kernelspec": {
   "display_name": "Python 3",
   "language": "python",
   "name": "python3"
  },
  "language_info": {
   "codemirror_mode": {
    "name": "ipython",
    "version": 3
   },
   "file_extension": ".py",
   "mimetype": "text/x-python",
   "name": "python",
   "nbconvert_exporter": "python",
   "pygments_lexer": "ipython3",
   "version": "3.7.3"
  }
 },
 "nbformat": 4,
 "nbformat_minor": 2
}
