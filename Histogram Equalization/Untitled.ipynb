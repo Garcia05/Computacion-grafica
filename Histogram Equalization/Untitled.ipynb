{
 "cells": [
  {
   "cell_type": "code",
   "execution_count": 24,
   "metadata": {},
   "outputs": [
    {
     "data": {
      "image/png": "[encoded data removed]",
      "text/plain": [
       "<Figure size 432x288 with 1 Axes>"
      ]
     },
     "metadata": {
      "needs_background": "light"
     },
     "output_type": "display_data"
    }
   ],
   "source": [
    "import cv2\n",
    "import math\n",
    "import cmath\n",
    "import numpy as np\n",
    "from matplotlib import pyplot as plt\n",
    "\n",
    "\n",
    "img= cv2.imread('question_3.png')\n",
    "img = cv2.cvtColor(img, cv2.COLOR_BGR2GRAY)\n",
    "img_out= img.copy()\n",
    "row, col = img.shape\n",
    "def F1(L,n,Pn):\n",
    "    L = L-1\n",
    "    Pr = 0\n",
    "    for i in range(0,n,1):\n",
    "        Pr += Pn[i]\n",
    "    return L*Pr\n",
    "\n",
    "def F2(L,size,pn):\n",
    "    for x in L:\n",
    "        pn.append(x/size)\n",
    "        \n",
    "def getGray(rgb):\n",
    "    return rgb[0]\n",
    "\n",
    "\n",
    "def setGray(color):\n",
    "    return [color, color, color]  \n",
    "def exponential(c,f):\n",
    "    valor= int(c*math.log(1+f,10))\n",
    "    if(valor > 255):\n",
    "        return 255\n",
    "    if(valor<0):\n",
    "        return 0\n",
    "    return valor\n",
    "a = 0\n",
    "b = 255\n",
    "c = 50\n",
    "d = 230\n",
    "limit = 0;\n",
    "for y in range(0,col):\n",
    "    for x in range(0,row):\n",
    "        valor= img_out[x,y]\n",
    "        if(valor>=c+((limit*c)/100) and valor<=d-((limit*c)/100) ):\n",
    "            img_out[x,y] =(valor-c)*(((b-a)/(d-c))+a)\n",
    "        elif( valor>=0 and valor<c+((limit*c)/100)):\n",
    "            img_out[x,y]=0\n",
    "        elif(valor>d-((limit*c)/100) and valor<=b):\n",
    "            img_out[x,y]=255\n",
    "\n",
    "cons=100\n",
    "r = 1.5\n",
    "for i in range(0,col):\n",
    "    for j in range(0,row):\n",
    "        img_out[j,i]=exponential(cons,img[j,i])\n",
    "plt.axis(\"on\")\n",
    "L = plt.hist(img.ravel(),256,[0,256])[0]\n",
    "\n",
    "\n",
    "size = row * c\n",
    "plt.hist(img.ravel(),256,[0,256])\n",
    "plt.show()\n",
    "cv2.imshow('Coverted Image',img_out)\n",
    "cv2.waitKey(0)\n",
    "cv2.destroyAllWindows()"
   ]
  },
  {
   "cell_type": "code",
   "execution_count": null,
   "metadata": {},
   "outputs": [],
   "source": []
  },
  {
   "cell_type": "code",
   "execution_count": null,
   "metadata": {},
   "outputs": [],
   "source": []
  }
 ],
 "metadata": {
  "kernelspec": {
   "display_name": "Python 3",
   "language": "python",
   "name": "python3"
  },
  "language_info": {
   "codemirror_mode": {
    "name": "ipython",
    "version": 3
   },
   "file_extension": ".py",
   "mimetype": "text/x-python",
   "name": "python",
   "nbconvert_exporter": "python",
   "pygments_lexer": "ipython3",
   "version": "3.7.3"
  }
 },
 "nbformat": 4,
 "nbformat_minor": 2
}
