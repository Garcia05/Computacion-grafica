{
 "cells": [
  {
   "cell_type": "code",
   "execution_count": 57,
   "metadata": {},
   "outputs": [
    {
     "name": "stdout",
     "output_type": "stream",
     "text": [
      "510 384\n"
     ]
    },
    {
     "ename": "NameError",
     "evalue": "name 'crop_img' is not defined",
     "output_type": "error",
     "traceback": [
      "\u001b[1;31m---------------------------------------------------------------------------\u001b[0m",
      "\u001b[1;31mNameError\u001b[0m                                 Traceback (most recent call last)",
      "\u001b[1;32m<ipython-input-57-f87244d3cc71>\u001b[0m in \u001b[0;36m<module>\u001b[1;34m\u001b[0m\n\u001b[0;32m     84\u001b[0m \u001b[1;33m\u001b[0m\u001b[0m\n\u001b[0;32m     85\u001b[0m \u001b[0msize\u001b[0m \u001b[1;33m=\u001b[0m \u001b[0mrow\u001b[0m \u001b[1;33m*\u001b[0m \u001b[0mcol\u001b[0m\u001b[1;33m\u001b[0m\u001b[1;33m\u001b[0m\u001b[0m\n\u001b[1;32m---> 86\u001b[1;33m \u001b[0mL\u001b[0m \u001b[1;33m=\u001b[0m \u001b[0mplt\u001b[0m\u001b[1;33m.\u001b[0m\u001b[0mhist\u001b[0m\u001b[1;33m(\u001b[0m\u001b[0mcrop_img\u001b[0m\u001b[1;33m.\u001b[0m\u001b[0mravel\u001b[0m\u001b[1;33m(\u001b[0m\u001b[1;33m)\u001b[0m\u001b[1;33m,\u001b[0m\u001b[1;36m256\u001b[0m\u001b[1;33m,\u001b[0m\u001b[1;33m[\u001b[0m\u001b[1;36m0\u001b[0m\u001b[1;33m,\u001b[0m\u001b[1;36m256\u001b[0m\u001b[1;33m]\u001b[0m\u001b[1;33m)\u001b[0m\u001b[1;33m[\u001b[0m\u001b[1;36m0\u001b[0m\u001b[1;33m]\u001b[0m\u001b[1;33m\u001b[0m\u001b[1;33m\u001b[0m\u001b[0m\n\u001b[0m\u001b[0;32m     87\u001b[0m \u001b[0mpn\u001b[0m \u001b[1;33m=\u001b[0m \u001b[1;33m[\u001b[0m\u001b[1;33m]\u001b[0m\u001b[1;33m\u001b[0m\u001b[1;33m\u001b[0m\u001b[0m\n\u001b[0;32m     88\u001b[0m \u001b[0mF2\u001b[0m\u001b[1;33m(\u001b[0m\u001b[0mL\u001b[0m\u001b[1;33m,\u001b[0m\u001b[0msize\u001b[0m\u001b[1;33m,\u001b[0m\u001b[0mpn\u001b[0m\u001b[1;33m)\u001b[0m\u001b[1;33m\u001b[0m\u001b[1;33m\u001b[0m\u001b[0m\n",
      "\u001b[1;31mNameError\u001b[0m: name 'crop_img' is not defined"
     ]
    }
   ],
   "source": [
    "import cv2\n",
    "import numpy as np\n",
    "import math\n",
    "import cmath\n",
    "from matplotlib import pyplot as plt\n",
    "\n",
    "\n",
    "img= cv2.imread('question_3.png')\n",
    "#img = cv2.cvtColor(img, cv2.COLOR_BGR2GRAY)\n",
    "img_out = img.copy()\n",
    "\n",
    "\n",
    "def getGray(rgb):\n",
    "    return rgb[0]\n",
    "\n",
    "\n",
    "def setGray(color):\n",
    "    return [color, color, color]\n",
    "row, col , cha= img_out.shape\n",
    "\n",
    "a = 0\n",
    "b = 255\n",
    "c = 50\n",
    "d = 230\n",
    "limit = 0;\n",
    "for y in range(0,col):\n",
    "    for x in range(0,row):\n",
    "        valor= getGray(img_out[x,y])\n",
    "        if(valor>=c+((limit*c)/100) and valor<=d-((limit*c)/100) ):\n",
    "            img_out[x,y] =setGray((valor-c)*(((b-a)/(d-c))+a))\n",
    "        elif( valor>=0 and valor<c+((limit*c)/100)):\n",
    "            img_out[x,y]=setGray(0)\n",
    "        elif(valor>d-((limit*c)/100) and valor<=b):\n",
    "            img_out[x,y]=setGray(255)\n",
    "\n",
    "def exponential(c,f):\n",
    "    valor= int(c*math.log(1+f,10))\n",
    "    if(valor > 255):\n",
    "        return 255\n",
    "    if(valor<0):\n",
    "        return 0\n",
    "    return valor\n",
    "def raiz(c,f):\n",
    "    valor= int(c*math.sqrt(f))\n",
    "    if(valor > 255):\n",
    "        return 255\n",
    "    if(valor<0):\n",
    "        return 0\n",
    "    return valor\n",
    "def exponential2(c,b,f):\n",
    "    valor = c*( pow(b,f)-1)\n",
    "    if(valor > 255):\n",
    "        return 255\n",
    "    if(valor<0):\n",
    "        return 0\n",
    "    return valor\n",
    "def exponential3(c,b,f):\n",
    "    valor = c*( pow(f,b))\n",
    "    if(valor > 255):\n",
    "        return 255\n",
    "    if(valor<0):\n",
    "        return 0\n",
    "    return valor\n",
    "\n",
    "cons=100\n",
    "r = 1.5\n",
    "for i in range(0,col):\n",
    "    for j in range(0,row):\n",
    "        img_out[j,i]=setGray(exponential(cons,getGray(img[j,i])))\n",
    "        \n",
    "def F1(L,n,Pn):\n",
    "    L = L-1\n",
    "    Pr = 0\n",
    "    for i in range(0,n,1):\n",
    "        Pr += Pn[i]\n",
    "    return L*Pr\n",
    "\n",
    "def F2(L,size,pn):\n",
    "    for x in L:\n",
    "        pn.append(x/size)\n",
    "\n",
    "\n",
    "\n",
    "size = row * col\n",
    "L = plt.hist(crop_img.ravel(),256,[0,256])[0]\n",
    "pn = []\n",
    "F2(L,size,pn)\n",
    "S_n = []\n",
    "for i in range (1,len(L)+1):\n",
    "\tS_n.append(int(F1(len(L),i,pn)))\n",
    "\n",
    "for y in range(0,col):\n",
    "\tfor x in range(0,row):\n",
    "\t\timg_out[x,y] = S_n[img[x,y]]\n",
    "\n",
    "plt.axis(\"on\")\n",
    "plt.hist(img.ravel(),256,[0,256])\n",
    "plt.show()\n",
    "plt.axis(\"on\")\n",
    "plt.hist(img_out.ravel(),256,[0,256])\n",
    "plt.show()\n",
    "cv2.imshow('Coverted Image',img_out)\n",
    "cv2.waitKey(0)\n",
    "cv2.destroyAllWindows()"
   ]
  },
  {
   "cell_type": "code",
   "execution_count": null,
   "metadata": {},
   "outputs": [],
   "source": []
  },
  {
   "cell_type": "code",
   "execution_count": 182,
   "metadata": {},
   "outputs": [
    {
     "data": {
      "image/png": "[encoded data removed]",
      "text/plain": [
       "<Figure size 432x288 with 2 Axes>"
      ]
     },
     "metadata": {
      "needs_background": "light"
     },
     "output_type": "display_data"
    }
   ],
   "source": [
    "import numpy\n",
    "import matplotlib.pyplot as plt\n",
    "from copy import deepcopy\n",
    "from PIL import Image\n",
    "from math import cos, sin\n",
    "\n",
    "\n",
    "def getGrayColor(rgb):\n",
    "    return rgb[0]\n",
    "\n",
    "\n",
    "def setGrayColor(color):\n",
    "    return [color, color, color]\n",
    "\n",
    "\n",
    "img = Image.open('img1.jpg')\n",
    "img = numpy.asarray(img)\n",
    "\n",
    "# copy list not reference\n",
    "ct = deepcopy(img)\n",
    "\n",
    "r1 = 79 #c\n",
    "s1 = 0 #a\n",
    "r2 = 136 # d\n",
    "s2 = 255 #b\n",
    "\n",
    "for i in range(len(img)):\n",
    "    for j in range(len(img[i])):\n",
    "        x = getGrayColor(img[i][j])\n",
    "        if(0 <= x and x <= r1):\n",
    "            ct[i][j] = setGrayColor(s1/r1 * x)\n",
    "        elif(r1 < x and x <= r2):\n",
    "            ct[i][j] = setGrayColor(((s2 - s1)/(r2 - r1)) * (x - r1) + s1)\n",
    "        elif(r2 < x and x <= 255):\n",
    "            ct[i][j] = setGrayColor(((255 - s2)/(255 - r2)) * (x - r2) + s2)\n",
    "\n",
    "plt.subplot(2, 2, 1)\n",
    "plt.imshow(img)\n",
    "plt.subplot(2, 2, 2)\n",
    "plt.imshow(ct)\n",
    "\n",
    "\n",
    "plt.show()"
   ]
  },
  {
   "cell_type": "code",
   "execution_count": 1,
   "metadata": {},
   "outputs": [
    {
     "name": "stdout",
     "output_type": "stream",
     "text": [
      "min value 56 max value 139\n"
     ]
    },
    {
     "data": {
      "text/plain": [
       "<Figure size 640x480 with 1 Axes>"
      ]
     },
     "metadata": {},
     "output_type": "display_data"
    }
   ],
   "source": [
    "import cv2\n",
    "import numpy as np\n",
    "from matplotlib import pyplot as plt\n",
    "\n",
    "img = cv2.imread('img1.jpg')\n",
    "row,cols,channels = img.shape\n",
    "smallest = np.amin(img)\n",
    "biggest = np.amax(img)\n",
    "#print( \"maximo:\" + str(biggest)+\"minimo\"+str(smallest))\n",
    "\n",
    "output = img.copy()\n",
    "lista = []\n",
    "for i in range (row):\n",
    "    for j in range (cols):        \n",
    "        lista.append(img[i][j][0])\n",
    "        output[i][j] =  (img[i][j]-smallest)*(255/(biggest-smallest))\n",
    "\n",
    "print(\"min value %s max value %s\" % (smallest , biggest))\n",
    "\n",
    "cv2.imwrite('outputcell.png',output)\n",
    "\n",
    "cv2.imshow('input',img)\n",
    "cv2.imshow('output',output)\n",
    "cv2.waitKey(0)\n",
    "cv2.destroyAllWindows()\n",
    "histr = cv2.calcHist( [img],[0],None,[256],[0,256])\n",
    "histr2 = cv2.calcHist( [output],[0],None,[256],[0,256])\n",
    "plt.plot(histr)\n",
    "plt.plot(histr2)\n",
    "plt.show()\n",
    "#plt.hist(output.ravel(),256,[0,256]); plt.show()\n",
    "#plt.hist(img.ravel(),256,[0,256]); plt.show()\n"
   ]
  },
  {
   "cell_type": "code",
   "execution_count": 1,
   "metadata": {},
   "outputs": [
    {
     "data": {
      "text/plain": [
       "<Figure size 640x480 with 1 Axes>"
      ]
     },
     "metadata": {},
     "output_type": "display_data"
    }
   ],
   "source": [
    "import cv2\n",
    "import numpy as np\n",
    "from matplotlib import pyplot as plt\n",
    "\n",
    "img = cv2.imread('img1.jpg')\n",
    "row, cols, channels = img.shape\n",
    "smallest = np.amin(img)\n",
    "biggest = np.amax(img)\n",
    "\n",
    "output = img.copy()\n",
    "for i in range (row):\n",
    "    for j in range (cols):        \n",
    "        output[i][j] =  (img[i][j]-smallest)*(255/(biggest-smallest))\n",
    "\n",
    "cv2.imshow('input', img)\n",
    "cv2.imshow('output', output)\n",
    "histr = cv2.calcHist([img], [0], None, [256], [0, 256])\n",
    "histr2 = cv2.calcHist([output], [0], None, [256], [0, 256])\n",
    "plt.plot(histr)\n",
    "plt.plot(histr2)\n",
    "plt.show()"
   ]
  },
  {
   "cell_type": "code",
   "execution_count": null,
   "metadata": {},
   "outputs": [],
   "source": []
  }
 ],
 "metadata": {
  "kernelspec": {
   "display_name": "Python 3",
   "language": "python",
   "name": "python3"
  },
  "language_info": {
   "codemirror_mode": {
    "name": "ipython",
    "version": 3
   },
   "file_extension": ".py",
   "mimetype": "text/x-python",
   "name": "python",
   "nbconvert_exporter": "python",
   "pygments_lexer": "ipython3",
   "version": "3.7.3"
  }
 },
 "nbformat": 4,
 "nbformat_minor": 2
}
