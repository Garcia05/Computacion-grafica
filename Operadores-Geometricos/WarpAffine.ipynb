{
 "cells": [
  {
   "cell_type": "code",
   "execution_count": 1,
   "metadata": {},
   "outputs": [
    {
     "data": {
      "text/plain": [
       "'rotation_0.439204958046743.jpg'"
      ]
     },
     "execution_count": 1,
     "metadata": {},
     "output_type": "execute_result"
    }
   ],
   "source": [
    "\n",
    "import cv2\n",
    "import numpy as np\n",
    "import math\n",
    "import random\n",
    "from tkinter import Tk\n",
    "from tkinter.filedialog import askopenfilename\n",
    "\n",
    "def warp_my(filename,M,rsize):\n",
    "    img = filename\n",
    "    rows, cols = rsize\n",
    "    rows1, cols1 = img.shape[:2]\n",
    "    img_output = np.zeros((rsize[0],rsize[1],3), np.uint8)\n",
    "    X1 = np.float32([0,0])\n",
    "    A = np.float32([ [M[0,0],M[0,1]], [M[1,0],M[1,1] ]])\n",
    "    \n",
    "    for x in range(rows-1):\n",
    "        for y in range(cols-1):\n",
    "            Y1 = np.float32([ [x-M[0,2]],[y-M[1,2]] ])\n",
    "            cv2.solve(A,Y1,X1)\n",
    "            newx = int(X1[0])\n",
    "            newy = int(X1[1])\n",
    "            if(newx>0 and newx < rows1 and newy < cols1 and newy>0):\n",
    "                img_output[x,y,0] = img[newx,newy,0]\n",
    "                img_output[x,y,1] = img[newx,newy,1]\n",
    "                img_output[x,y,2] = img[newx,newy,2]\n",
    "    return img_output\n",
    "    \n",
    "def rotation(filename, angle, scale = 1):\n",
    "    angle = 360-angle\n",
    "    img = cv2.imread(filename)\n",
    "    rows, cols = img.shape[:2]\n",
    "\n",
    "    alpha = scale*math.cos(math.radians(angle))\n",
    "    betha = scale*math.sin(math.radians(angle))\n",
    "    center_x = cols/2\n",
    "    center_y = rows/2\n",
    "    M = np.ndarray(shape=(2,3), buffer = np.array([[alpha,betha,(1-alpha)*center_x-betha*center_y],[-betha,alpha,betha*center_x+(1-alpha)*center_y]]))\n",
    "    \n",
    "    \n",
    "    newX,newY = rows*scale,cols*scale\n",
    "    sen = math.sin(math.radians(angle))\n",
    "    cos = math.cos(math.radians(angle))\n",
    "    newX,newY = (abs(sen*newY) + abs(cos*newX),abs(sen*newX) + abs(cos*newY))\n",
    "    \n",
    "    (tx,ty) = ((newX-rows)/2,(newY-cols)/2)\n",
    "    M[0,2] += tx\n",
    "    M[1,2] += ty\n",
    "    \n",
    "    img_output = warp_my(img, M, (int(newX),int(newY)))\n",
    "    strr = \"rotation_\"+str(random.random())+\".jpg\"\n",
    "    cv2.imwrite(strr,img_output)\n",
    "    return strr\n",
    "\n",
    "\n",
    "filename = askopenfilename()\n",
    "\n",
    "rotation(filename,30)"
   ]
  },
  {
   "cell_type": "code",
   "execution_count": null,
   "metadata": {},
   "outputs": [],
   "source": []
  }
 ],
 "metadata": {
  "kernelspec": {
   "display_name": "Python 3",
   "language": "python",
   "name": "python3"
  },
  "language_info": {
   "codemirror_mode": {
    "name": "ipython",
    "version": 3
   },
   "file_extension": ".py",
   "mimetype": "text/x-python",
   "name": "python",
   "nbconvert_exporter": "python",
   "pygments_lexer": "ipython3",
   "version": "3.7.3"
  }
 },
 "nbformat": 4,
 "nbformat_minor": 2
}
