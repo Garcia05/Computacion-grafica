{
 "cells": [
  {
   "cell_type": "code",
   "execution_count": 35,
   "metadata": {},
   "outputs": [
    {
     "name": "stdout",
     "output_type": "stream",
     "text": [
      "324\n",
      "325\n"
     ]
    }
   ],
   "source": [
    "import cv2\n",
    "import math\n",
    "import cmath\n",
    "import numpy as np\n",
    "from matplotlib import pyplot as plt\n",
    "\n",
    "def Normal_adition(f1,f2):\n",
    "    valor = f1/2 + f2/2\n",
    "    if(valor>255):\n",
    "        return 255\n",
    "    if(valor<0):\n",
    "        return 0\n",
    "    return valor\n",
    "def add_constant(f1,c):\n",
    "    valor = f1 + c\n",
    "    if(valor>255):\n",
    "        return 255\n",
    "    if(valor<0):\n",
    "        return 0\n",
    "    return valor\n",
    "\n",
    "img1= cv2.imread('add_1.jpg')\n",
    "img2= cv2.imread('add_2.jpg')\n",
    "img = img1.copy()\n",
    "row, cols ,channels = img.shape\n",
    "print (row)\n",
    "print (cols)\n",
    "for i in range(0,row):\n",
    "    for j in range(0,cols-1):\n",
    "        img[i][j] = Normal_adition(img1[i][j][0],img2[i][j][0])\n",
    "\n",
    "\n",
    "\n",
    "cv2.imshow('Coverted Image',img)\n",
    "cv2.waitKey(0)\n",
    "cv2.destroyAllWindows()\n"
   ]
  },
  {
   "cell_type": "code",
   "execution_count": 3,
   "metadata": {},
   "outputs": [
    {
     "name": "stdout",
     "output_type": "stream",
     "text": [
      "(543, 832, 3)\n",
      "(543, 832, 3)\n",
      "(545, 786, 3)\n"
     ]
    }
   ],
   "source": [
    "import cv2\n",
    "import math\n",
    "import cmath\n",
    "import numpy as np\n",
    "from matplotlib import pyplot as plt\n",
    "\n",
    "def Normal_adition(f1,f2):\n",
    "    valor = f1/2 + f2/2\n",
    "    if(valor>255):\n",
    "        return 255\n",
    "    if(valor<0):\n",
    "        return 0\n",
    "    return valor\n",
    "def add_constant(f1,c):\n",
    "    valor = f1 + c\n",
    "    if(valor>255):\n",
    "        return 255\n",
    "    if(valor<0):\n",
    "        return 0\n",
    "    return valor\n",
    "\n",
    "img1= cv2.imread('add_10.jpg')\n",
    "img2= cv2.imread('add_11.jpg')\n",
    "\n",
    "row, cols ,channels = img1.shape\n",
    "img = cv2.resize(img2,(int(cols),int(row)))\n",
    "print(img.shape)\n",
    "print(img1.shape)\n",
    "print(img2.shape)\n",
    "for i in range(0,row):\n",
    "    for j in range(0,cols):\n",
    "        img[i][j][0] = Normal_adition(img1[i][j][0],img[i][j][0])\n",
    "        img[i][j][1] = Normal_adition(img1[i][j][1],img[i][j][1])\n",
    "        img[i][j][2] = Normal_adition(img1[i][j][2],img[i][j][2])\n",
    "cv2.imshow('Coverted Image',img)\n",
    "cv2.waitKey(0)\n",
    "cv2.destroyAllWindows()"
   ]
  },
  {
   "cell_type": "code",
   "execution_count": 1,
   "metadata": {},
   "outputs": [
    {
     "name": "stdout",
     "output_type": "stream",
     "text": [
      "(510, 384, 3)\n",
      "(510, 384, 3)\n",
      "(510, 384, 3)\n"
     ]
    }
   ],
   "source": [
    "import cv2\n",
    "import math\n",
    "import cmath\n",
    "import numpy as np\n",
    "from matplotlib import pyplot as plt\n",
    "\n",
    "def Normal_sustraccion(f1,f2):\n",
    "    valor = f1/2 - f2/2\n",
    "    if(f1<f2):\n",
    "        valor = f2 - f1\n",
    "    if(valor>255):\n",
    "        return 255\n",
    "    if(valor<0):\n",
    "        return 0\n",
    "    return valor\n",
    "def add_constant(f1,c):\n",
    "    valor = f1 + c\n",
    "    if(valor>255):\n",
    "        return 255\n",
    "    if(valor<0):\n",
    "        return 0\n",
    "    return valor\n",
    "\n",
    "img1= cv2.imread('sub_1.jpg')\n",
    "img2= cv2.imread('sub_2.jpg')\n",
    "\n",
    "row, cols ,channels = img1.shape\n",
    "img = cv2.resize(img2,(int(cols),int(row)))\n",
    "print(img.shape)\n",
    "print(img1.shape)\n",
    "print(img2.shape)\n",
    "for i in range(0,row):\n",
    "    for j in range(0,cols):\n",
    "        img[i][j][0] = Normal_sustraccion(img1[i][j][0],img[i][j][0])\n",
    "        img[i][j][1] = Normal_sustraccion(img1[i][j][1],img[i][j][1])\n",
    "        img[i][j][2] = Normal_sustraccion(img1[i][j][2],img[i][j][2])\n",
    "\n",
    "for i in range (row):\n",
    "    for j in range (cols):        \n",
    "        if img[i,j][0] > 20 and  img[i,j][0] < 120:\n",
    "            img[i,j] = 0\n",
    "        else:\n",
    "            img[i,j] = 255\n",
    "cv2.imshow('Coverted Image',img)\n",
    "cv2.waitKey(0)\n",
    "cv2.destroyAllWindows()"
   ]
  },
  {
   "cell_type": "code",
   "execution_count": 2,
   "metadata": {},
   "outputs": [
    {
     "name": "stdout",
     "output_type": "stream",
     "text": [
      "(384, 507, 3)\n",
      "(384, 507, 3)\n",
      "(384, 507, 3)\n"
     ]
    }
   ],
   "source": [
    "import cv2\n",
    "import math\n",
    "import cmath\n",
    "import numpy as np\n",
    "from matplotlib import pyplot as plt\n",
    "\n",
    "def Normal_sustraccion(f1,f2):\n",
    "    valor = f1/2 - f2/2\n",
    "    if(f1<f2):\n",
    "        valor = f2 - f1\n",
    "    if(valor>255):\n",
    "        return 255\n",
    "    if(valor<0):\n",
    "        return 0\n",
    "    return valor\n",
    "def add_constant(f1,c):\n",
    "    valor = f1 + c\n",
    "    if(valor>255):\n",
    "        return 255\n",
    "    if(valor<0):\n",
    "        return 0\n",
    "    return valor\n",
    "\n",
    "img1= cv2.imread('sub_10.jpg')\n",
    "img2= cv2.imread('sub_11.jpg')\n",
    "\n",
    "row, cols ,channels = img1.shape\n",
    "img = cv2.resize(img2,(int(cols),int(row)))\n",
    "print(img.shape)\n",
    "print(img1.shape)\n",
    "print(img2.shape)\n",
    "for i in range(0,row):\n",
    "    for j in range(0,cols):\n",
    "        img[i][j][0] = Normal_sustraccion(img1[i][j][0],img[i][j][0])\n",
    "        img[i][j][1] = Normal_sustraccion(img1[i][j][1],img[i][j][1])\n",
    "        img[i][j][2] = Normal_sustraccion(img1[i][j][2],img[i][j][2])\n",
    "\n",
    "\n",
    "cv2.imshow('Coverted Image',img)\n",
    "cv2.waitKey(0)\n",
    "cv2.destroyAllWindows()"
   ]
  },
  {
   "cell_type": "code",
   "execution_count": null,
   "metadata": {},
   "outputs": [],
   "source": []
  }
 ],
 "metadata": {
  "kernelspec": {
   "display_name": "Python 3",
   "language": "python",
   "name": "python3"
  },
  "language_info": {
   "codemirror_mode": {
    "name": "ipython",
    "version": 3
   },
   "file_extension": ".py",
   "mimetype": "text/x-python",
   "name": "python",
   "nbconvert_exporter": "python",
   "pygments_lexer": "ipython3",
   "version": "3.7.3"
  }
 },
 "nbformat": 4,
 "nbformat_minor": 2
}
